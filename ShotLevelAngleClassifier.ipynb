{
 "cells": [
  {
   "cell_type": "markdown",
   "id": "f1cf308f-70b4-41a7-ba9e-c545ca42a52a",
   "metadata": {},
   "source": [
    "# Shot Angle And Level Classifiyer Implemented"
   ]
  },
  {
   "cell_type": "markdown",
   "id": "dff57d32-ee11-4f20-9068-bbda959187fa",
   "metadata": {},
   "source": [
    "## Import Libraries"
   ]
  },
  {
   "cell_type": "code",
   "execution_count": 1,
   "id": "44715507-8cb1-4780-b6a9-93c2823a89f6",
   "metadata": {},
   "outputs": [],
   "source": [
    "import numpy as np \n",
    "import pandas as pd \n",
    "import matplotlib.pyplot as plt\n",
    "import tensorflow as tf\n",
    "from tensorflow import keras\n",
    "import cv2\n",
    "import seaborn as sns\n",
    "import glob\n",
    "import xml.etree.ElementTree as ET\n",
    "from PIL import Image\n",
    "import os\n",
    "import shutil\n",
    "import torch"
   ]
  },
  {
   "cell_type": "code",
   "execution_count": 2,
   "id": "3e2349f0-dfe3-4018-8c3b-03bae0cc5ac4",
   "metadata": {},
   "outputs": [
    {
     "name": "stdout",
     "output_type": "stream",
     "text": [
      "Ultralytics 8.3.17  Python-3.12.6 torch-2.5.1+cu124 CUDA:0 (NVIDIA GeForce RTX 3080 Laptop GPU, 16384MiB)\n",
      "Setup complete  (16 CPUs, 31.7 GB RAM, 536.0/931.0 GB disk)\n"
     ]
    }
   ],
   "source": [
    "import ultralytics\n",
    "ultralytics.checks()"
   ]
  },
  {
   "cell_type": "code",
   "execution_count": 3,
   "id": "783905d9-550d-4b48-ab66-45cfa5313bae",
   "metadata": {},
   "outputs": [],
   "source": [
    "from ultralytics import YOLO"
   ]
  },
  {
   "cell_type": "markdown",
   "id": "1eb19b54-92ae-415e-9268-e021d67d9c20",
   "metadata": {},
   "source": [
    "## Model Assignment"
   ]
  },
  {
   "cell_type": "code",
   "execution_count": 6,
   "id": "bd4a364f-8b83-4ac6-9ffe-eb85b598a938",
   "metadata": {},
   "outputs": [],
   "source": [
    "level_model = YOLO('Models/level/level_75epoch.onnx', task='classify')"
   ]
  },
  {
   "cell_type": "code",
   "execution_count": 7,
   "id": "a3d6c0e0-9614-40a6-b0ab-163effabff30",
   "metadata": {},
   "outputs": [],
   "source": [
    "angle_model = YOLO('Models/angle/angle_lr0-001.onnx', task='classify')"
   ]
  },
  {
   "cell_type": "markdown",
   "id": "728a3044-901d-4902-9ac9-20e9504fb8ac",
   "metadata": {},
   "source": [
    "## Show Testing"
   ]
  },
  {
   "cell_type": "code",
   "execution_count": null,
   "id": "91c72301-23fd-470f-b01b-101f03d778c3",
   "metadata": {},
   "outputs": [],
   "source": [
    "#Functions to get random selected samples from the raw dataset and assign to directory \n",
    "import random, os, glob, shutil\n",
    "\n",
    "# Function to get random sample from dataset given a dataset\n",
    "def randomized_sample_list(raw_path, sample_size):\n",
    "    path_list = []\n",
    "    file_sample = random.sample(list(os.scandir(raw_path)), sample_size)\n",
    "    for file in file_sample:\n",
    "        path_list.append(file.path)\n",
    "    return path_list\n"
   ]
  }
 ],
 "metadata": {
  "kernelspec": {
   "display_name": "Python 3 (ipykernel)",
   "language": "python",
   "name": "python3"
  },
  "language_info": {
   "codemirror_mode": {
    "name": "ipython",
    "version": 3
   },
   "file_extension": ".py",
   "mimetype": "text/x-python",
   "name": "python",
   "nbconvert_exporter": "python",
   "pygments_lexer": "ipython3",
   "version": "3.12.6"
  }
 },
 "nbformat": 4,
 "nbformat_minor": 5
}
