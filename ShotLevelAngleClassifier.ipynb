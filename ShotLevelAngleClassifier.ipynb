{
 "cells": [
  {
   "cell_type": "markdown",
   "id": "f1cf308f-70b4-41a7-ba9e-c545ca42a52a",
   "metadata": {},
   "source": [
    "# Shot Angle And Level Classifiyer Implemented"
   ]
  },
  {
   "cell_type": "markdown",
   "id": "dff57d32-ee11-4f20-9068-bbda959187fa",
   "metadata": {},
   "source": [
    "## Import Libraries"
   ]
  },
  {
   "cell_type": "code",
   "execution_count": 33,
   "id": "44715507-8cb1-4780-b6a9-93c2823a89f6",
   "metadata": {},
   "outputs": [],
   "source": [
    "import numpy as np \n",
    "import pandas as pd \n",
    "import matplotlib.pyplot as plt\n",
    "import tensorflow as tf\n",
    "from tensorflow import keras\n",
    "import cv2\n",
    "import seaborn as sns\n",
    "import glob\n",
    "import xml.etree.ElementTree as ET\n",
    "from PIL import Image\n",
    "import os\n",
    "import shutil\n",
    "import torch"
   ]
  },
  {
   "cell_type": "code",
   "execution_count": 34,
   "id": "3e2349f0-dfe3-4018-8c3b-03bae0cc5ac4",
   "metadata": {},
   "outputs": [
    {
     "name": "stdout",
     "output_type": "stream",
     "text": [
      "Ultralytics 8.3.17  Python-3.12.6 torch-2.5.1+cu124 CUDA:0 (NVIDIA GeForce RTX 3080 Laptop GPU, 16384MiB)\n",
      "Setup complete  (16 CPUs, 31.7 GB RAM, 581.5/931.0 GB disk)\n"
     ]
    }
   ],
   "source": [
    "import ultralytics\n",
    "ultralytics.checks()"
   ]
  },
  {
   "cell_type": "code",
   "execution_count": 35,
   "id": "783905d9-550d-4b48-ab66-45cfa5313bae",
   "metadata": {},
   "outputs": [],
   "source": [
    "from ultralytics import YOLO"
   ]
  },
  {
   "cell_type": "markdown",
   "id": "1eb19b54-92ae-415e-9268-e021d67d9c20",
   "metadata": {},
   "source": [
    "## Model Assignment"
   ]
  },
  {
   "cell_type": "code",
   "execution_count": 36,
   "id": "bd4a364f-8b83-4ac6-9ffe-eb85b598a938",
   "metadata": {},
   "outputs": [],
   "source": [
    "level_model = YOLO('level-model-training/runs/classify/train4/weights/best.pt')"
   ]
  },
  {
   "cell_type": "code",
   "execution_count": 37,
   "id": "a3d6c0e0-9614-40a6-b0ab-163effabff30",
   "metadata": {},
   "outputs": [],
   "source": [
    "angle_model = YOLO('angle-model-training/runs/classify/train17/weights/best.pt')"
   ]
  },
  {
   "cell_type": "markdown",
   "id": "728a3044-901d-4902-9ac9-20e9504fb8ac",
   "metadata": {},
   "source": [
    "## Show Testing"
   ]
  },
  {
   "cell_type": "code",
   "execution_count": 38,
   "id": "91c72301-23fd-470f-b01b-101f03d778c3",
   "metadata": {},
   "outputs": [
    {
     "name": "stdout",
     "output_type": "stream",
     "text": [
      "Raw Datasets/OtherTests/headspace_9.png\n"
     ]
    }
   ],
   "source": [
    "#Import photo from a directory \n",
    "import os, random \n",
    "image_dir = 'Raw Datasets/OtherTests'\n",
    "image_file = image_dir + '/' + random.choice(os.listdir(image_dir))\n",
    "\n",
    "print(image_file)"
   ]
  },
  {
   "cell_type": "code",
   "execution_count": 10,
   "id": "11247a33-8f52-425e-af53-4a9f124350b3",
   "metadata": {},
   "outputs": [],
   "source": [
    "# Import image from link \n",
    "# image_file = 'url_here'"
   ]
  },
  {
   "cell_type": "code",
   "execution_count": 41,
   "id": "220c563b-692d-48b0-81cb-7ddcc1d8ff79",
   "metadata": {},
   "outputs": [
    {
     "name": "stdout",
     "output_type": "stream",
     "text": [
      "\n",
      "image 1/1 C:\\Users\\alex\\Documents\\SFU Courses\\FALL 2024\\IAT 360\\Work\\CVProject-ShotAngle_LevelClassifier\\Raw Datasets\\OtherTests\\headspace_9.png: 224x224 low 0.79, dutch 0.21, overhead 0.00, high 0.00, neutral 0.00, 5.5ms\n",
      "Speed: 18.2ms preprocess, 5.5ms inference, 0.0ms postprocess per image at shape (1, 3, 224, 224)\n"
     ]
    },
    {
     "data": {
      "text/plain": [
       "[ultralytics.engine.results.Results object with attributes:\n",
       " \n",
       " boxes: None\n",
       " keypoints: None\n",
       " masks: None\n",
       " names: {0: 'dutch', 1: 'high', 2: 'low', 3: 'neutral', 4: 'overhead'}\n",
       " obb: None\n",
       " orig_img: array([[[0, 0, 0],\n",
       "         [0, 0, 0],\n",
       "         [0, 0, 0],\n",
       "         ...,\n",
       "         [0, 0, 0],\n",
       "         [0, 0, 0],\n",
       "         [0, 0, 0]],\n",
       " \n",
       "        [[0, 0, 0],\n",
       "         [0, 0, 0],\n",
       "         [0, 0, 0],\n",
       "         ...,\n",
       "         [0, 0, 0],\n",
       "         [0, 0, 0],\n",
       "         [0, 0, 0]],\n",
       " \n",
       "        [[0, 0, 0],\n",
       "         [0, 0, 0],\n",
       "         [0, 0, 0],\n",
       "         ...,\n",
       "         [0, 0, 0],\n",
       "         [0, 0, 0],\n",
       "         [0, 0, 0]],\n",
       " \n",
       "        ...,\n",
       " \n",
       "        [[0, 1, 2],\n",
       "         [0, 1, 2],\n",
       "         [0, 1, 2],\n",
       "         ...,\n",
       "         [1, 0, 0],\n",
       "         [1, 0, 0],\n",
       "         [1, 0, 0]],\n",
       " \n",
       "        [[0, 1, 2],\n",
       "         [0, 1, 2],\n",
       "         [0, 1, 2],\n",
       "         ...,\n",
       "         [1, 0, 0],\n",
       "         [1, 0, 0],\n",
       "         [1, 0, 0]],\n",
       " \n",
       "        [[0, 1, 2],\n",
       "         [0, 1, 2],\n",
       "         [0, 1, 2],\n",
       "         ...,\n",
       "         [1, 0, 0],\n",
       "         [1, 0, 0],\n",
       "         [1, 0, 0]]], dtype=uint8)\n",
       " orig_shape: (1080, 1920)\n",
       " path: 'C:\\\\Users\\\\alex\\\\Documents\\\\SFU Courses\\\\FALL 2024\\\\IAT 360\\\\Work\\\\CVProject-ShotAngle_LevelClassifier\\\\Raw Datasets\\\\OtherTests\\\\headspace_9.png'\n",
       " probs: ultralytics.engine.results.Probs object\n",
       " save_dir: 'runs\\\\classify\\\\predict4'\n",
       " speed: {'preprocess': 18.160581588745117, 'inference': 5.5103302001953125, 'postprocess': 0.0}]"
      ]
     },
     "execution_count": 41,
     "metadata": {},
     "output_type": "execute_result"
    }
   ],
   "source": [
    "angle_model(image_file, show=True)"
   ]
  },
  {
   "cell_type": "code",
   "execution_count": 42,
   "id": "0b6013bd-67d8-49c1-8342-afddded48824",
   "metadata": {},
   "outputs": [
    {
     "name": "stdout",
     "output_type": "stream",
     "text": [
      "\n",
      "image 1/1 C:\\Users\\alex\\Documents\\SFU Courses\\FALL 2024\\IAT 360\\Work\\CVProject-ShotAngle_LevelClassifier\\Raw Datasets\\OtherTests\\headspace_9.png: 224x224 shoulder 0.66, eye 0.34, hip 0.00, ground-knee 0.00, aerial 0.00, 7.0ms\n",
      "Speed: 14.9ms preprocess, 7.0ms inference, 0.0ms postprocess per image at shape (1, 3, 224, 224)\n"
     ]
    },
    {
     "data": {
      "text/plain": [
       "[ultralytics.engine.results.Results object with attributes:\n",
       " \n",
       " boxes: None\n",
       " keypoints: None\n",
       " masks: None\n",
       " names: {0: 'aerial', 1: 'eye', 2: 'ground-knee', 3: 'hip', 4: 'shoulder'}\n",
       " obb: None\n",
       " orig_img: array([[[0, 0, 0],\n",
       "         [0, 0, 0],\n",
       "         [0, 0, 0],\n",
       "         ...,\n",
       "         [0, 0, 0],\n",
       "         [0, 0, 0],\n",
       "         [0, 0, 0]],\n",
       " \n",
       "        [[0, 0, 0],\n",
       "         [0, 0, 0],\n",
       "         [0, 0, 0],\n",
       "         ...,\n",
       "         [0, 0, 0],\n",
       "         [0, 0, 0],\n",
       "         [0, 0, 0]],\n",
       " \n",
       "        [[0, 0, 0],\n",
       "         [0, 0, 0],\n",
       "         [0, 0, 0],\n",
       "         ...,\n",
       "         [0, 0, 0],\n",
       "         [0, 0, 0],\n",
       "         [0, 0, 0]],\n",
       " \n",
       "        ...,\n",
       " \n",
       "        [[0, 1, 2],\n",
       "         [0, 1, 2],\n",
       "         [0, 1, 2],\n",
       "         ...,\n",
       "         [1, 0, 0],\n",
       "         [1, 0, 0],\n",
       "         [1, 0, 0]],\n",
       " \n",
       "        [[0, 1, 2],\n",
       "         [0, 1, 2],\n",
       "         [0, 1, 2],\n",
       "         ...,\n",
       "         [1, 0, 0],\n",
       "         [1, 0, 0],\n",
       "         [1, 0, 0]],\n",
       " \n",
       "        [[0, 1, 2],\n",
       "         [0, 1, 2],\n",
       "         [0, 1, 2],\n",
       "         ...,\n",
       "         [1, 0, 0],\n",
       "         [1, 0, 0],\n",
       "         [1, 0, 0]]], dtype=uint8)\n",
       " orig_shape: (1080, 1920)\n",
       " path: 'C:\\\\Users\\\\alex\\\\Documents\\\\SFU Courses\\\\FALL 2024\\\\IAT 360\\\\Work\\\\CVProject-ShotAngle_LevelClassifier\\\\Raw Datasets\\\\OtherTests\\\\headspace_9.png'\n",
       " probs: ultralytics.engine.results.Probs object\n",
       " save_dir: 'runs\\\\classify\\\\predict5'\n",
       " speed: {'preprocess': 14.916658401489258, 'inference': 6.978273391723633, 'postprocess': 0.0}]"
      ]
     },
     "execution_count": 42,
     "metadata": {},
     "output_type": "execute_result"
    }
   ],
   "source": [
    "level_model(image_file, show=True)"
   ]
  },
  {
   "cell_type": "code",
   "execution_count": null,
   "id": "f7769279-d3c5-436b-bd4f-da47896edaba",
   "metadata": {},
   "outputs": [],
   "source": []
  }
 ],
 "metadata": {
  "kernelspec": {
   "display_name": "Python 3 (ipykernel)",
   "language": "python",
   "name": "python3"
  },
  "language_info": {
   "codemirror_mode": {
    "name": "ipython",
    "version": 3
   },
   "file_extension": ".py",
   "mimetype": "text/x-python",
   "name": "python",
   "nbconvert_exporter": "python",
   "pygments_lexer": "ipython3",
   "version": "3.12.6"
  }
 },
 "nbformat": 4,
 "nbformat_minor": 5
}
